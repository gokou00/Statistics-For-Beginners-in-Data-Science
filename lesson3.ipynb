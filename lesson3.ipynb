{
 "cells": [
  {
   "cell_type": "markdown",
   "metadata": {},
   "source": [
    "# Probability Concepts"
   ]
  },
  {
   "cell_type": "code",
   "execution_count": 1,
   "metadata": {},
   "outputs": [],
   "source": [
    "# creating a function that will take the event outcomes and the sample space and return the probability\n",
    "\n",
    "\n",
    "#creating space with the default value of 52 since most of the example deal with playing cards\n",
    "def event_probability(event,space=52):\n",
    "    return (event/space) * 100\n",
    "    "
   ]
  },
  {
   "cell_type": "code",
   "execution_count": 2,
   "metadata": {},
   "outputs": [
    {
     "name": "stdout",
     "output_type": "stream",
     "text": [
      "25.0%\n"
     ]
    }
   ],
   "source": [
    "# determining the probability of drawing a heart\n",
    "\n",
    "heart = 13\n",
    "heart_probability = event_probability(heart) # default value for space is 52\n",
    "print(str(heart_probability) + \"%\")"
   ]
  },
  {
   "cell_type": "code",
   "execution_count": 6,
   "metadata": {},
   "outputs": [
    {
     "name": "stdout",
     "output_type": "stream",
     "text": [
      "2.0%\n"
     ]
    }
   ],
   "source": [
    "# probability of drawing a queen of hearts\n",
    "\n",
    "queen_of_hearts = 1\n",
    "\n",
    "probab_queen_of_hearts = event_probability(queen_of_hearts)\n",
    "print(str(round(probab_queen_of_hearts,0)) + \"%\")"
   ]
  },
  {
   "cell_type": "code",
   "execution_count": 9,
   "metadata": {},
   "outputs": [
    {
     "name": "stdout",
     "output_type": "stream",
     "text": [
      "44.1\n"
     ]
    }
   ],
   "source": [
    "# Finding the mean, median and mode\n",
    "\n",
    "# Mean this is the long way would use numpy\n",
    "n_num = [13,40,50,50,90,18,30,50,30,70]\n",
    "n = len(n_num)\n",
    "n_sum = sum(n_num)\n",
    "mean = n_sum / n\n",
    "print(mean)\n"
   ]
  },
  {
   "cell_type": "code",
   "execution_count": 10,
   "metadata": {},
   "outputs": [
    {
     "name": "stdout",
     "output_type": "stream",
     "text": [
      "45.0\n"
     ]
    }
   ],
   "source": [
    "# median\n",
    "\n",
    "n_num.sort()\n",
    "\n",
    "median = 0\n",
    "if n % 2 == 0:\n",
    "    median1 = n_num[n//2]\n",
    "    median2 = n_num[n//2-1]\n",
    "    median = (median1 + median2)/2\n",
    "else:\n",
    "    median = n_num[n//2]\n",
    "\n",
    "print(median)"
   ]
  },
  {
   "cell_type": "code",
   "execution_count": 11,
   "metadata": {},
   "outputs": [
    {
     "name": "stdout",
     "output_type": "stream",
     "text": [
      "50\n"
     ]
    }
   ],
   "source": [
    "# Mode\n",
    "# A number of different ways to do this I'm using a custom sort\n",
    "\n",
    "from collections import Counter\n",
    "\n",
    "data = Counter(n_num)\n",
    "mode = sorted(data.items(), key = lambda x:(-x[1]))[0][0]\n",
    "print(mode)"
   ]
  },
  {
   "cell_type": "code",
   "execution_count": 13,
   "metadata": {},
   "outputs": [
    {
     "name": "stdout",
     "output_type": "stream",
     "text": [
      "32\n"
     ]
    }
   ],
   "source": [
    "# implementing the range, variance and standard deviation\n",
    "\n",
    "# Range\n",
    "\n",
    "numbers = [10,8,20,40,12,15,30,25]\n",
    "minimum = min(numbers)\n",
    "maximum = max(numbers)\n",
    "\n",
    "range_numbers = maximum - minimum\n",
    "print(range_numbers)"
   ]
  },
  {
   "cell_type": "code",
   "execution_count": 14,
   "metadata": {},
   "outputs": [
    {
     "name": "stdout",
     "output_type": "stream",
     "text": [
      "6.640000000000001\n"
     ]
    }
   ],
   "source": [
    "#variance\n",
    "\n",
    "import numpy as np\n",
    "\n",
    "numbers = [3,5,6,9,10]\n",
    "variance = np.var(numbers)\n",
    "print(variance)"
   ]
  },
  {
   "cell_type": "code",
   "execution_count": 15,
   "metadata": {},
   "outputs": [
    {
     "name": "stdout",
     "output_type": "stream",
     "text": [
      "2.5768197453450252\n"
     ]
    }
   ],
   "source": [
    "# standard deviation\n",
    "\n",
    "std = np.sqrt(variance)\n",
    "print(std)"
   ]
  },
  {
   "cell_type": "code",
   "execution_count": null,
   "metadata": {},
   "outputs": [],
   "source": []
  }
 ],
 "metadata": {
  "kernelspec": {
   "display_name": "Python 3",
   "language": "python",
   "name": "python3"
  },
  "language_info": {
   "codemirror_mode": {
    "name": "ipython",
    "version": 3
   },
   "file_extension": ".py",
   "mimetype": "text/x-python",
   "name": "python",
   "nbconvert_exporter": "python",
   "pygments_lexer": "ipython3",
   "version": "3.8.3"
  }
 },
 "nbformat": 4,
 "nbformat_minor": 4
}
